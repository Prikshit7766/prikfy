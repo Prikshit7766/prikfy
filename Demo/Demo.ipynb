{
 "cells": [
  {
   "cell_type": "code",
   "execution_count": 6,
   "metadata": {},
   "outputs": [
    {
     "name": "stdout",
     "output_type": "stream",
     "text": [
      "twelve decillion three hundred forty one nonillion one hundred eleven octillion one hundred eleven septillion one hundred twenty two sextillion two hundred twenty one quintillion one hundred eleven quadrillion one hundred eleven trillion one hundred eleven billion one hundred eleven million one hundred eleven thousand one hundred eleven\n"
     ]
    }
   ],
   "source": [
    "from prikfy.transform import UnitTransform\n",
    "unit=UnitTransform()\n",
    "result = unit.number_to_word(12341111111122221111111111111111111)\n",
    "print(result)"
   ]
  },
  {
   "cell_type": "code",
   "execution_count": null,
   "metadata": {},
   "outputs": [],
   "source": []
  }
 ],
 "metadata": {
  "kernelspec": {
   "display_name": "Python 3",
   "language": "python",
   "name": "python3"
  },
  "language_info": {
   "codemirror_mode": {
    "name": "ipython",
    "version": 3
   },
   "file_extension": ".py",
   "mimetype": "text/x-python",
   "name": "python",
   "nbconvert_exporter": "python",
   "pygments_lexer": "ipython3",
   "version": "3.8.16"
  },
  "orig_nbformat": 4
 },
 "nbformat": 4,
 "nbformat_minor": 2
}
