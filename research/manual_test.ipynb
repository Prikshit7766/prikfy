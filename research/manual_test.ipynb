{
 "cells": [
  {
   "cell_type": "code",
   "execution_count": 2,
   "metadata": {},
   "outputs": [],
   "source": [
    "# define word representations for numbers 0 to 19\n",
    "ones = ['', 'one', 'two', 'three', 'four', 'five', 'six', 'seven', 'eight', 'nine', 'ten', 'eleven', 'twelve', 'thirteen', 'fourteen', 'fifteen', 'sixteen', 'seventeen', 'eighteen', 'nineteen']\n",
    "# define word representations for multiples of 10\n",
    "tens = ['', '', 'twenty', 'thirty', 'forty', 'fifty', 'sixty', 'seventy', 'eighty', 'ninety']\n",
    "# define word representations for place values\n",
    "places = ['', 'thousand', 'million', 'billion', 'trillion', 'quadrillion']\n"
   ]
  },
  {
   "cell_type": "code",
   "execution_count": 3,
   "metadata": {},
   "outputs": [],
   "source": [
    "def num_to_word(num):\n",
    "    # define word representations for numbers 0 to 19\n",
    "    ones = ['', 'one', 'two', 'three', 'four', 'five', 'six', 'seven', 'eight', 'nine', 'ten', 'eleven', 'twelve', 'thirteen', 'fourteen', 'fifteen', 'sixteen', 'seventeen', 'eighteen', 'nineteen']\n",
    "    # define word representations for multiples of 10\n",
    "    tens = ['', '', 'twenty', 'thirty', 'forty', 'fifty', 'sixty', 'seventy', 'eighty', 'ninety']\n",
    "    # define word representations for place values\n",
    "    places = ['', 'thousand', 'million', 'billion', 'trillion', 'quadrillion']\n",
    "    \n",
    "    # sanitize input string\n",
    "    num_str = str(num).replace(',', '').replace(' ', '')\n",
    "    \n",
    "    # handle negative numbers\n",
    "    if num_str.startswith('-'):\n",
    "        return 'minus ' + num_to_word(int(num_str[1:]))\n",
    "    \n",
    "    # convert input string to integer\n",
    "    try:\n",
    "        num = int(num_str)\n",
    "    except ValueError:\n",
    "        return 'invalid input'\n",
    "    \n",
    "    # handle integers\n",
    "    if num < 20:\n",
    "        return ones[num]\n",
    "    if num < 100:\n",
    "        return tens[num // 10] + ('' if num % 10 == 0 else ' ' + ones[num % 10])\n",
    "    if num < 1000:\n",
    "        return ones[num // 100] + ' hundred' + ('' if num % 100 == 0 else ' and ' + num_to_word(num % 100))\n",
    "    \n",
    "    # handle larger numbers\n",
    "    for i in range(len(places)):\n",
    "        if num < 1000 ** (i+1):\n",
    "            num_str = str(num // (1000 ** i))\n",
    "            if num % (1000 ** i) == 0:\n",
    "                return num_to_word(int(num_str)) + ' ' + places[i]\n",
    "            else:\n",
    "                return num_to_word(int(num_str)) + ' ' + places[i] + ', ' + num_to_word(num % (1000 ** i))\n",
    "    \n",
    "    # handle numbers out of range\n",
    "    return 'number out of range'"
   ]
  },
  {
   "cell_type": "code",
   "execution_count": 4,
   "metadata": {},
   "outputs": [
    {
     "data": {
      "text/plain": [
       "'one million, two hundred and thirty four thousand, five hundred and sixty seven'"
      ]
     },
     "execution_count": 4,
     "metadata": {},
     "output_type": "execute_result"
    }
   ],
   "source": [
    "num_to_word('1 234 567')"
   ]
  },
  {
   "cell_type": "code",
   "execution_count": 5,
   "metadata": {},
   "outputs": [
    {
     "data": {
      "text/plain": [
       "'one million, two hundred and thirty four thousand, five hundred and sixty seven'"
      ]
     },
     "execution_count": 5,
     "metadata": {},
     "output_type": "execute_result"
    }
   ],
   "source": [
    "num_to_word('1234567')"
   ]
  },
  {
   "cell_type": "code",
   "execution_count": 6,
   "metadata": {},
   "outputs": [
    {
     "data": {
      "text/plain": [
       "'invalid input'"
      ]
     },
     "execution_count": 6,
     "metadata": {},
     "output_type": "execute_result"
    }
   ],
   "source": [
    "num_to_word('1-2345-67')"
   ]
  },
  {
   "cell_type": "code",
   "execution_count": 12,
   "metadata": {},
   "outputs": [
    {
     "data": {
      "text/plain": [
       "'one hundred and twenty three millionfour hundred and fifty six thousandseven hundred and eighty nine'"
      ]
     },
     "execution_count": 12,
     "metadata": {},
     "output_type": "execute_result"
    }
   ],
   "source": [
    "num_to_word('123456789')"
   ]
  },
  {
   "cell_type": "code",
   "execution_count": 24,
   "metadata": {},
   "outputs": [
    {
     "name": "stdout",
     "output_type": "stream",
     "text": [
      "Note: you may need to restart the kernel to use updated packages.\n"
     ]
    },
    {
     "name": "stderr",
     "output_type": "stream",
     "text": [
      "ERROR: Could not find a version that satisfies the requirement re (from versions: none)\n",
      "ERROR: No matching distribution found for re\n"
     ]
    }
   ],
   "source": [
    "pip install re"
   ]
  },
  {
   "cell_type": "code",
   "execution_count": 1,
   "metadata": {},
   "outputs": [],
   "source": [
    "import re\n",
    "import unicodedata\n",
    "\n",
    "def get_currency_symbols():\n",
    "    \"\"\"Returns a set of all currency symbols in the Unicode character set.\"\"\"\n",
    "    currency_symbols = set()\n",
    "    for char in map(chr, range(0xFFFF)):\n",
    "        if unicodedata.category(char) == 'Sc':\n",
    "            currency_symbols.add(char)\n",
    "    return currency_symbols\n",
    "\n",
    "currency_symbols = {s: s.lower().replace(' ', '-') for s in get_currency_symbols()}\n",
    "\n",
    "def convert_currency(sentence):\n",
    "    # Find all currency symbols in the sentence using a regular expression\n",
    "    pattern = r'([' + re.escape(''.join(currency_symbols.keys())) + '])'\n",
    "    matches = re.findall(pattern, sentence)\n",
    "    \n",
    "    # If no currency symbols are found, return the original sentence\n",
    "    if not matches:\n",
    "        return sentence\n",
    "    \n",
    "    # Convert each currency symbol to its corresponding word\n",
    "    for symbol in matches:\n",
    "        word = currency_symbols.get(symbol)\n",
    "        sentence = sentence.replace(symbol, f'{word} ')\n",
    "    \n",
    "    # Remove any extra spaces that were added\n",
    "    sentence = sentence.strip()\n",
    "    \n",
    "    return sentence"
   ]
  },
  {
   "cell_type": "code",
   "execution_count": 2,
   "metadata": {},
   "outputs": [
    {
     "name": "stdout",
     "output_type": "stream",
     "text": [
      "I bought a shirt for $ 25 and a pair of shoes for € 50. The exchange rate for USD to JPY is 110 yen to the dollar.\n"
     ]
    }
   ],
   "source": [
    "sentence = 'I bought a shirt for $25 and a pair of shoes for €50. The exchange rate for USD to JPY is 110 yen to the dollar.'\n",
    "converted_sentence = convert_currency(sentence)\n",
    "print(converted_sentence)"
   ]
  },
  {
   "cell_type": "code",
   "execution_count": null,
   "metadata": {},
   "outputs": [],
   "source": []
  },
  {
   "cell_type": "code",
   "execution_count": 4,
   "metadata": {},
   "outputs": [
    {
     "name": "stdout",
     "output_type": "stream",
     "text": [
      "{'AED': 'United Arab Emirates Dirham', 'AFN': 'Afghan Afghani', 'ALL': 'Albanian Lek', 'AMD': 'Armenian Dram', 'ANG': 'Netherlands Antillean Guilder', 'AOA': 'Angolan Kwanza', 'ARS': 'Argentine Peso', 'AUD': 'Australian Dollar', 'AWG': 'Aruban Florin', 'AZN': 'Azerbaijani Manat', 'BAM': 'Bosnia-Herzegovina Convertible Mark', 'BBD': 'Barbadian Dollar', 'BDT': 'Bangladeshi Taka', 'BGN': 'Bulgarian Lev', 'BHD': 'Bahraini Dinar', 'BIF': 'Burundian Franc', 'BMD': 'Bermudan Dollar', 'BND': 'Brunei Dollar', 'BOB': 'Bolivian Boliviano', 'BRL': 'Brazilian Real', 'BSD': 'Bahamian Dollar', 'BTC': 'Bitcoin', 'BTN': 'Bhutanese Ngultrum', 'BWP': 'Botswanan Pula', 'BYN': 'Belarusian Ruble', 'BZD': 'Belize Dollar', 'CAD': 'Canadian Dollar', 'CDF': 'Congolese Franc', 'CHF': 'Swiss Franc', 'CLF': 'Chilean Unit of Account (UF)', 'CLP': 'Chilean Peso', 'CNH': 'Chinese Yuan (Offshore)', 'CNY': 'Chinese Yuan', 'COP': 'Colombian Peso', 'CRC': 'Costa Rican Colón', 'CUC': 'Cuban Convertible Peso', 'CUP': 'Cuban Peso', 'CVE': 'Cape Verdean Escudo', 'CZK': 'Czech Republic Koruna', 'DJF': 'Djiboutian Franc', 'DKK': 'Danish Krone', 'DOP': 'Dominican Peso', 'DZD': 'Algerian Dinar', 'EGP': 'Egyptian Pound', 'ERN': 'Eritrean Nakfa', 'ETB': 'Ethiopian Birr', 'EUR': 'Euro', 'FJD': 'Fijian Dollar', 'FKP': 'Falkland Islands Pound', 'GBP': 'British Pound Sterling', 'GEL': 'Georgian Lari', 'GGP': 'Guernsey Pound', 'GHS': 'Ghanaian Cedi', 'GIP': 'Gibraltar Pound', 'GMD': 'Gambian Dalasi', 'GNF': 'Guinean Franc', 'GTQ': 'Guatemalan Quetzal', 'GYD': 'Guyanaese Dollar', 'HKD': 'Hong Kong Dollar', 'HNL': 'Honduran Lempira', 'HRK': 'Croatian Kuna', 'HTG': 'Haitian Gourde', 'HUF': 'Hungarian Forint', 'IDR': 'Indonesian Rupiah', 'ILS': 'Israeli New Sheqel', 'IMP': 'Manx pound', 'INR': 'Indian Rupee', 'IQD': 'Iraqi Dinar', 'IRR': 'Iranian Rial', 'ISK': 'Icelandic Króna', 'JEP': 'Jersey Pound', 'JMD': 'Jamaican Dollar', 'JOD': 'Jordanian Dinar', 'JPY': 'Japanese Yen', 'KES': 'Kenyan Shilling', 'KGS': 'Kyrgystani Som', 'KHR': 'Cambodian Riel', 'KMF': 'Comorian Franc', 'KPW': 'North Korean Won', 'KRW': 'South Korean Won', 'KWD': 'Kuwaiti Dinar', 'KYD': 'Cayman Islands Dollar', 'KZT': 'Kazakhstani Tenge', 'LAK': 'Laotian Kip', 'LBP': 'Lebanese Pound', 'LKR': 'Sri Lankan Rupee', 'LRD': 'Liberian Dollar', 'LSL': 'Lesotho Loti', 'LYD': 'Libyan Dinar', 'MAD': 'Moroccan Dirham', 'MDL': 'Moldovan Leu', 'MGA': 'Malagasy Ariary', 'MKD': 'Macedonian Denar', 'MMK': 'Myanma Kyat', 'MNT': 'Mongolian Tugrik', 'MOP': 'Macanese Pataca', 'MRU': 'Mauritanian Ouguiya', 'MUR': 'Mauritian Rupee', 'MVR': 'Maldivian Rufiyaa', 'MWK': 'Malawian Kwacha', 'MXN': 'Mexican Peso', 'MYR': 'Malaysian Ringgit', 'MZN': 'Mozambican Metical', 'NAD': 'Namibian Dollar', 'NGN': 'Nigerian Naira', 'NIO': 'Nicaraguan Córdoba', 'NOK': 'Norwegian Krone', 'NPR': 'Nepalese Rupee', 'NZD': 'New Zealand Dollar', 'OMR': 'Omani Rial', 'PAB': 'Panamanian Balboa', 'PEN': 'Peruvian Nuevo Sol', 'PGK': 'Papua New Guinean Kina', 'PHP': 'Philippine Peso', 'PKR': 'Pakistani Rupee', 'PLN': 'Polish Zloty', 'PYG': 'Paraguayan Guarani', 'QAR': 'Qatari Rial', 'RON': 'Romanian Leu', 'RSD': 'Serbian Dinar', 'RUB': 'Russian Ruble', 'RWF': 'Rwandan Franc', 'SAR': 'Saudi Riyal', 'SBD': 'Solomon Islands Dollar', 'SCR': 'Seychellois Rupee', 'SDG': 'Sudanese Pound', 'SEK': 'Swedish Krona', 'SGD': 'Singapore Dollar', 'SHP': 'Saint Helena Pound', 'SLL': 'Sierra Leonean Leone', 'SOS': 'Somali Shilling', 'SRD': 'Surinamese Dollar', 'SSP': 'South Sudanese Pound', 'STD': 'São Tomé and Príncipe Dobra (pre-2018)', 'STN': 'São Tomé and Príncipe Dobra', 'SVC': 'Salvadoran Colón', 'SYP': 'Syrian Pound', 'SZL': 'Swazi Lilangeni', 'THB': 'Thai Baht', 'TJS': 'Tajikistani Somoni', 'TMT': 'Turkmenistani Manat', 'TND': 'Tunisian Dinar', 'TOP': \"Tongan Pa'anga\", 'TRY': 'Turkish Lira', 'TTD': 'Trinidad and Tobago Dollar', 'TWD': 'New Taiwan Dollar', 'TZS': 'Tanzanian Shilling', 'UAH': 'Ukrainian Hryvnia', 'UGX': 'Ugandan Shilling', 'USD': 'United States Dollar', 'UYU': 'Uruguayan Peso', 'UZS': 'Uzbekistan Som', 'VEF': 'Venezuelan Bolívar Fuerte (Old)', 'VES': 'Venezuelan Bolívar Soberano', 'VND': 'Vietnamese Dong', 'VUV': 'Vanuatu Vatu', 'WST': 'Samoan Tala', 'XAF': 'CFA Franc BEAC', 'XAG': 'Silver Ounce', 'XAU': 'Gold Ounce', 'XCD': 'East Caribbean Dollar', 'XDR': 'Special Drawing Rights', 'XOF': 'CFA Franc BCEAO', 'XPD': 'Palladium Ounce', 'XPF': 'CFP Franc', 'XPT': 'Platinum Ounce', 'YER': 'Yemeni Rial', 'ZAR': 'South African Rand', 'ZMW': 'Zambian Kwacha', 'ZWL': 'Zimbabwean Dollar'}\n"
     ]
    }
   ],
   "source": [
    "import requests\n",
    "\n",
    "# Replace YOUR_APP_ID with your own App ID obtained from the Open Exchange Rates website\n",
    "url = f\"https://openexchangerates.org/api/currencies.json?app_id=YOUR_APP_ID\"\n",
    "\n",
    "response = requests.get(url)\n",
    "if response.status_code == 200:\n",
    "    currency_dict = response.json()\n",
    "    print(currency_dict)\n",
    "else:\n",
    "    print(\"Failed to fetch currency list\")"
   ]
  },
  {
   "cell_type": "code",
   "execution_count": 7,
   "metadata": {},
   "outputs": [],
   "source": [
    "currency_symbols = {\n",
    "    '$': 'Dollar',\n",
    "    '¢': 'Cent',\n",
    "    '₡': 'Colon',\n",
    "    '₢': 'Cruzeiro',\n",
    "    '₣': 'Franc',\n",
    "    '₤': 'Lira',\n",
    "    '₥': 'Mill',\n",
    "    '₦': 'Naira',\n",
    "    '₧': 'Peseta',\n",
    "    '₨': 'Rupee',\n",
    "    '₩': 'Won',\n",
    "    '₪': 'Shekel',\n",
    "    '₫': 'Dong',\n",
    "    '₭': 'Kip',\n",
    "    '₮': 'Tugrik',\n",
    "    '₯': 'Drachma',\n",
    "    '₰': 'Penny',\n",
    "    '₱': 'Peso',\n",
    "    '₲': 'Guarani',\n",
    "    '₳': 'Austral',\n",
    "    '₴': 'Hryvnia',\n",
    "    '₵': 'Cedi',\n",
    "    '₸': 'Tenge',\n",
    "    '₺': 'Lira',\n",
    "    '₼': 'Manat',\n",
    "    '₽': 'Ruble',\n",
    "    '₾': 'Lari',\n",
    "    '₿': 'Bitcoin',\n",
    "    '₺': 'Turkish Lira',\n",
    "    '៛': 'Riel',\n",
    "    '₹': 'Indian Rupee',\n",
    "    '₠': 'Euro',\n",
    "    '₡': 'Costa Rican colon',\n",
    "    '₢': 'Brazilian Cruzeiro',\n",
    "    '₣': 'French franc',\n",
    "    '₤': 'Italian lira',\n",
    "    '₥': 'mill',\n",
    "    '₦': 'Nigerian Naira',\n",
    "    '₧': 'Spanish peseta',\n",
    "    '₨': 'Pakistan Rupee',\n",
    "    '₩': 'South Korean won',\n",
    "    '₪': 'Israeli new shekel',\n",
    "    '₫': 'Vietnamese dong',\n",
    "    '₭': 'Lao kip',\n",
    "    '₮': 'Mongolian tögrög',\n",
    "    '₯': 'Greek drachma',\n",
    "    '₰': 'German penny',\n",
    "    '₱': 'Philippine peso',\n",
    "    '₲': 'Paraguayan guaraní',\n",
    "    '₳': 'Argentine austral',\n",
    "    '₴': 'Ukrainian hryvnia',\n",
    "    '₵': 'Ghanaian cedi',\n",
    "    '₸': 'Kazakhstani tenge',\n",
    "    '₺': 'Turkish lira',\n",
    "    '₼': 'Azerbaijani manat',\n",
    "    '₽': 'Russian ruble',\n",
    "    '₾': 'Georgian lari',\n",
    "    '₿': 'Bitcoin',\n",
    "    'Ƀ': 'Bitcoin'\n",
    "}"
   ]
  },
  {
   "cell_type": "code",
   "execution_count": 8,
   "metadata": {},
   "outputs": [],
   "source": [
    "import re\n",
    "import unicodedata\n",
    "\n",
    "def get_currency_symbols():\n",
    "    \"\"\"Returns a set of all currency symbols in the Unicode character set.\"\"\"\n",
    "    currency_symbols = set()\n",
    "    for char in map(chr, range(0xFFFF)):\n",
    "        if unicodedata.category(char) == 'Sc':\n",
    "            currency_symbols.add(char)\n",
    "    return currency_symbols"
   ]
  },
  {
   "cell_type": "code",
   "execution_count": 9,
   "metadata": {},
   "outputs": [],
   "source": [
    "currency_symbols.update({s: s for s in get_currency_symbols() if s not in currency_symbols})\n",
    "\n",
    "def convert_currency(sentence):\n",
    "    # Find all currency symbols in the sentence using a regular expression\n",
    "    pattern = r'([' + re.escape(''.join(currency_symbols.keys())) + '])'\n",
    "    matches = re.findall(pattern, sentence)\n",
    "    \n",
    "    # If no currency symbols are found, return the original sentence\n",
    "    if not matches:\n",
    "        return sentence\n",
    "    \n",
    "    # Convert each currency symbol to its corresponding word\n",
    "    for symbol in matches:\n",
    "        word = currency_symbols.get(symbol)\n",
    "        sentence = sentence.replace(symbol, f'{word} ')\n",
    "    \n",
    "    # Remove any extra spaces that were added\n",
    "    sentence = sentence.strip()\n",
    "    \n",
    "    return sentence"
   ]
  },
  {
   "cell_type": "code",
   "execution_count": 10,
   "metadata": {},
   "outputs": [
    {
     "name": "stdout",
     "output_type": "stream",
     "text": [
      "I bought a shirt for Dollar 25 and a pair of shoes for € 50. The exchange rate for USD to JPY is 110 yen to the dollar.\n"
     ]
    }
   ],
   "source": [
    "sentence = 'I bought a shirt for $25 and a pair of shoes for €50. The exchange rate for USD to JPY is 110 yen to the dollar.'\n",
    "converted_sentence = convert_currency(sentence)\n",
    "print(converted_sentence)"
   ]
  },
  {
   "cell_type": "code",
   "execution_count": 12,
   "metadata": {},
   "outputs": [
    {
     "name": "stdout",
     "output_type": "stream",
     "text": [
      "Collecting currency-symbols\n",
      "  Downloading currency_symbols-2.0.3-py3-none-any.whl (5.0 kB)\n",
      "Installing collected packages: currency-symbols\n",
      "Successfully installed currency-symbols-2.0.3\n",
      "Note: you may need to restart the kernel to use updated packages.\n"
     ]
    },
    {
     "name": "stderr",
     "output_type": "stream",
     "text": [
      "WARNING: Ignoring invalid distribution -rotobuf (c:\\users\\hp\\anaconda3\\envs\\all\\lib\\site-packages)\n",
      "WARNING: Ignoring invalid distribution -atplotlib (c:\\users\\hp\\anaconda3\\envs\\all\\lib\\site-packages)\n",
      "WARNING: Ignoring invalid distribution -rotobuf (c:\\users\\hp\\anaconda3\\envs\\all\\lib\\site-packages)\n",
      "WARNING: Ignoring invalid distribution -atplotlib (c:\\users\\hp\\anaconda3\\envs\\all\\lib\\site-packages)\n",
      "WARNING: Ignoring invalid distribution -rotobuf (c:\\users\\hp\\anaconda3\\envs\\all\\lib\\site-packages)\n",
      "WARNING: Ignoring invalid distribution -atplotlib (c:\\users\\hp\\anaconda3\\envs\\all\\lib\\site-packages)\n",
      "WARNING: Ignoring invalid distribution -rotobuf (c:\\users\\hp\\anaconda3\\envs\\all\\lib\\site-packages)\n",
      "WARNING: Ignoring invalid distribution -atplotlib (c:\\users\\hp\\anaconda3\\envs\\all\\lib\\site-packages)\n",
      "WARNING: Ignoring invalid distribution -rotobuf (c:\\users\\hp\\anaconda3\\envs\\all\\lib\\site-packages)\n",
      "WARNING: Ignoring invalid distribution -atplotlib (c:\\users\\hp\\anaconda3\\envs\\all\\lib\\site-packages)\n",
      "WARNING: Ignoring invalid distribution -rotobuf (c:\\users\\hp\\anaconda3\\envs\\all\\lib\\site-packages)\n",
      "WARNING: Ignoring invalid distribution -atplotlib (c:\\users\\hp\\anaconda3\\envs\\all\\lib\\site-packages)\n",
      "WARNING: Ignoring invalid distribution -rotobuf (c:\\users\\hp\\anaconda3\\envs\\all\\lib\\site-packages)\n",
      "WARNING: Ignoring invalid distribution -atplotlib (c:\\users\\hp\\anaconda3\\envs\\all\\lib\\site-packages)\n"
     ]
    }
   ],
   "source": [
    "pip install currency-symbols"
   ]
  },
  {
   "cell_type": "code",
   "execution_count": 13,
   "metadata": {},
   "outputs": [
    {
     "name": "stdout",
     "output_type": "stream",
     "text": [
      "$\n"
     ]
    }
   ],
   "source": [
    "from currency_symbols import CurrencySymbols\n",
    "\n",
    "dollarSymbol = CurrencySymbols.get_symbol('USD')\n",
    "print(dollarSymbol)"
   ]
  },
  {
   "cell_type": "code",
   "execution_count": 15,
   "metadata": {},
   "outputs": [
    {
     "data": {
      "text/plain": [
       "<function currency_symbols.currency_symbols.CurrencySymbols.get_symbol(currency: str) -> Union[str, NoneType]>"
      ]
     },
     "execution_count": 15,
     "metadata": {},
     "output_type": "execute_result"
    }
   ],
   "source": [
    "CurrencySymbols.get_symbol"
   ]
  },
  {
   "cell_type": "code",
   "execution_count": 20,
   "metadata": {},
   "outputs": [],
   "source": [
    "ONES = [\"\", \"One\", \"Two\", \"Three\", \"Four\", \"Five\", \"Six\", \"Seven\", \"Eight\", \"Nine\"]\n",
    "TEENS = [\"Ten\", \"Eleven\", \"Twelve\", \"Thirteen\", \"Fourteen\", \"Fifteen\", \"Sixteen\", \"Seventeen\", \"Eighteen\", \"Nineteen\"]\n",
    "TENS = [\"\", \"\", \"Twenty\", \"Thirty\", \"Forty\", \"Fifty\", \"Sixty\", \"Seventy\", \"Eighty\", \"Ninety\"]\n",
    "THOUSANDS = [\"\", \"Thousand\", \"Million\", \"Billion\", \"Trillion\", \"Quadrillion\", \"Quintillion\", \"Sextillion\", \"Septillion\", \"Octillion\", \"Nonillion\", \"Decillion\"]\n"
   ]
  },
  {
   "cell_type": "code",
   "execution_count": 24,
   "metadata": {},
   "outputs": [],
   "source": [
    "ONES = [\"\", \"One\", \"Two\", \"Three\", \"Four\", \"Five\", \"Six\", \"Seven\", \"Eight\", \"Nine\"]\n",
    "TEENS = [\"Ten\", \"Eleven\", \"Twelve\", \"Thirteen\", \"Fourteen\", \"Fifteen\", \"Sixteen\", \"Seventeen\", \"Eighteen\", \"Nineteen\"]\n",
    "TENS = [\"\", \"\", \"Twenty\", \"Thirty\", \"Forty\", \"Fifty\", \"Sixty\", \"Seventy\", \"Eighty\", \"Ninety\"]\n",
    "THOUSANDS = [\"\", \"Thousand\", \"Million\", \"Billion\", \"Trillion\", \"Quadrillion\", \"Quintillion\", \"Sextillion\", \"Septillion\", \"Octillion\", \"Nonillion\", \"Decillion\"]\n",
    "\n",
    "\n",
    "def convert_group_of_three_digits_to_words(num):\n",
    "    \"\"\"\n",
    "    Convert a group of three digits to its word representation.\n",
    "    :param num: The group of three digits to convert.\n",
    "    :type num: int\n",
    "    :return: The word representation of the group of three digits.\n",
    "    :rtype: str\n",
    "    \"\"\"\n",
    "    words = \"\"\n",
    "    hundreds = num // 100\n",
    "    num %= 100\n",
    "    if hundreds != 0:\n",
    "        words = ONES[hundreds] + \" Hundred\"\n",
    "        if num != 0:\n",
    "            words += \" \"\n",
    "    if num == 0:\n",
    "        return words\n",
    "    elif num < 10:\n",
    "        words += ONES[num]\n",
    "    elif num < 20:\n",
    "        words += TEENS[num-10]\n",
    "    else:\n",
    "        tens = num // 10\n",
    "        ones = num % 10\n",
    "        words += TENS[tens]\n",
    "        if ones != 0:\n",
    "            words += \" \" + ONES[ones]\n",
    "    return words\n",
    "\n",
    "def convert_number_to_words(number, case=\"propercase\"):\n",
    "    \"\"\"\n",
    "    Convert a number to its word representation.\n",
    "    :param number: The number to convert.\n",
    "    :type number: int or float\n",
    "    :param case: The case of the word representation. Default is \"propercase\".\n",
    "    :type case: str\n",
    "    :return: The word representation of the number.\n",
    "    :rtype: str\n",
    "    \"\"\"\n",
    "    if not isinstance(number, (int, float)):\n",
    "        raise ValueError(\"Number must be an integer or float.\")\n",
    "    if number == 0:\n",
    "        return \"Zero\"\n",
    "    words = \"\"\n",
    "    if number < 0:\n",
    "        words = \"Minus \"\n",
    "        number = abs(number)\n",
    "    i = 0\n",
    "    while number > 0:\n",
    "        group_of_three_digits = number % 1000\n",
    "        number //= 1000\n",
    "        if group_of_three_digits != 0:\n",
    "            group_of_three_digits_words = convert_group_of_three_digits_to_words(group_of_three_digits)\n",
    "            if i > 0:\n",
    "                group_of_three_digits_words += \" \" + THOUSANDS[i]\n",
    "            if words == \"\":\n",
    "                words = group_of_three_digits_words\n",
    "            else:\n",
    "                words = group_of_three_digits_words + \" \" + words\n",
    "        i += 1\n",
    "    if case == \"lowercase\":\n",
    "        return words.lower()\n",
    "    elif case == \"uppercase\":\n",
    "        return words.upper()\n",
    "    else:\n",
    "        return words.capitalize()"
   ]
  },
  {
   "cell_type": "code",
   "execution_count": 31,
   "metadata": {},
   "outputs": [
    {
     "data": {
      "text/plain": [
       "'Seven trillion seven hundred fifty two billion three hundred sixty five million six hundred fifty two thousand three hundred sixty five'"
      ]
     },
     "execution_count": 31,
     "metadata": {},
     "output_type": "execute_result"
    }
   ],
   "source": [
    "convert_number_to_words(7752365652365)"
   ]
  },
  {
   "cell_type": "code",
   "execution_count": 33,
   "metadata": {},
   "outputs": [
    {
     "data": {
      "text/plain": [
       "'One hundred eleven million one hundred eleven thousand one hundred eleven'"
      ]
     },
     "execution_count": 33,
     "metadata": {},
     "output_type": "execute_result"
    }
   ],
   "source": [
    "convert_number_to_words(111111111, case=\"PROPERCASE\")"
   ]
  },
  {
   "cell_type": "code",
   "execution_count": null,
   "metadata": {},
   "outputs": [],
   "source": [
    "-------------------------------------------------------------------------------------------------------------"
   ]
  },
  {
   "cell_type": "code",
   "execution_count": 110,
   "metadata": {},
   "outputs": [],
   "source": [
    "def convert_decimal_to_words(decimal):\n",
    "    \"\"\"\n",
    "    Convert a decimal number to its word representation.\n",
    "    :param decimal: The decimal number to convert.\n",
    "    :type decimal: int\n",
    "    :return: The word representation of the decimal number.\n",
    "    :rtype: str\n",
    "    \"\"\"\n",
    "    words = \"\"\n",
    "    for digit in str(decimal):\n",
    "        words += ONES[int(digit)] + \" \"\n",
    "    return words.strip()\n",
    "\n",
    "def convert_number_to_words(number, case=\"propercase\"):\n",
    "    \"\"\"\n",
    "    Convert a number to its word representation.\n",
    "    :param number: The number to convert.\n",
    "    :type number: int or float\n",
    "    :param case: The case of the word representation. Default is \"propercase\".\n",
    "    :type case: str\n",
    "    :return: The word representation of the number.\n",
    "    :rtype: str\n",
    "    \"\"\"\n",
    "    if not isinstance(number, (int, float)):\n",
    "        raise ValueError(\"Number must be an integer or float.\")\n",
    "    if number == 0:\n",
    "        return \"Zero\"\n",
    "    words = \"\"\n",
    "    if number < 0:\n",
    "        words = \"Minus \"\n",
    "        number = abs(number)\n",
    "    if isinstance(number, float):\n",
    "        whole_part, decimal_part = str(number).split(\".\")\n",
    "        decimal_part = int(decimal_part)\n",
    "        words += convert_number_to_words(int(whole_part)) + \" Point \" + convert_decimal_to_words(decimal_part)\n",
    "    else:\n",
    "        i = 0\n",
    "        while number > 0:\n",
    "            group_of_three_digits = number % 1000\n",
    "            number //= 1000\n",
    "            if group_of_three_digits != 0:\n",
    "                group_of_three_digits_words = convert_group_of_three_digits_to_words(group_of_three_digits)\n",
    "                if i > 0:\n",
    "                    group_of_three_digits_words += \" \" + THOUSANDS[i]\n",
    "                if words == \"\":\n",
    "                    words = group_of_three_digits_words\n",
    "                else:\n",
    "                    words = group_of_three_digits_words + \" \" + words\n",
    "            i += 1\n",
    "    if case == \"lowercase\":\n",
    "        return words.lower()\n",
    "    elif case == \"uppercase\":\n",
    "        return words.upper()\n",
    "    else:\n",
    "        return words.capitalize()"
   ]
  },
  {
   "cell_type": "code",
   "execution_count": 114,
   "metadata": {},
   "outputs": [
    {
     "data": {
      "text/plain": [
       "'Seventy seven billion five hundred twenty three million six hundred fifty four thousand five hundred forty five point five six five  two'"
      ]
     },
     "execution_count": 114,
     "metadata": {},
     "output_type": "execute_result"
    }
   ],
   "source": [
    "convert_number_to_words(77523654545.5650102365)"
   ]
  },
  {
   "cell_type": "code",
   "execution_count": 7,
   "metadata": {},
   "outputs": [
    {
     "ename": "RecursionError",
     "evalue": "maximum recursion depth exceeded while getting the str of an object",
     "output_type": "error",
     "traceback": [
      "\u001b[1;31m---------------------------------------------------------------------------\u001b[0m",
      "\u001b[1;31mRecursionError\u001b[0m                            Traceback (most recent call last)",
      "\u001b[1;32m~\\AppData\\Local\\Temp\\ipykernel_16204\\818824220.py\u001b[0m in \u001b[0;36m<module>\u001b[1;34m\u001b[0m\n\u001b[0;32m     54\u001b[0m     \u001b[1;32mreturn\u001b[0m \u001b[1;34m\"Number out of range.\"\u001b[0m\u001b[1;33m\u001b[0m\u001b[1;33m\u001b[0m\u001b[0m\n\u001b[0;32m     55\u001b[0m \u001b[1;33m\u001b[0m\u001b[0m\n\u001b[1;32m---> 56\u001b[1;33m \u001b[0mresult\u001b[0m \u001b[1;33m=\u001b[0m \u001b[0mnumber_to_words\u001b[0m\u001b[1;33m(\u001b[0m\u001b[1;36m77523654545.5650102365\u001b[0m\u001b[1;33m)\u001b[0m\u001b[1;33m\u001b[0m\u001b[1;33m\u001b[0m\u001b[0m\n\u001b[0m\u001b[0;32m     57\u001b[0m \u001b[0mprint\u001b[0m\u001b[1;33m(\u001b[0m\u001b[0mresult\u001b[0m\u001b[1;33m)\u001b[0m\u001b[1;33m\u001b[0m\u001b[1;33m\u001b[0m\u001b[0m\n",
      "\u001b[1;32m~\\AppData\\Local\\Temp\\ipykernel_16204\\818824220.py\u001b[0m in \u001b[0;36mnumber_to_words\u001b[1;34m(number)\u001b[0m\n\u001b[0;32m     50\u001b[0m             \u001b[0mquotient\u001b[0m \u001b[1;33m=\u001b[0m \u001b[0mnumber\u001b[0m \u001b[1;33m//\u001b[0m \u001b[0mprevious_magnitude\u001b[0m\u001b[1;33m\u001b[0m\u001b[1;33m\u001b[0m\u001b[0m\n\u001b[0;32m     51\u001b[0m             \u001b[0mremainder\u001b[0m \u001b[1;33m=\u001b[0m \u001b[0mnumber\u001b[0m \u001b[1;33m%\u001b[0m \u001b[0mprevious_magnitude\u001b[0m\u001b[1;33m\u001b[0m\u001b[1;33m\u001b[0m\u001b[0m\n\u001b[1;32m---> 52\u001b[1;33m             \u001b[1;32mreturn\u001b[0m \u001b[0mnumber_to_words\u001b[0m\u001b[1;33m(\u001b[0m\u001b[0mquotient\u001b[0m\u001b[1;33m)\u001b[0m \u001b[1;33m+\u001b[0m \u001b[1;34m\" \"\u001b[0m \u001b[1;33m+\u001b[0m \u001b[0mword\u001b[0m \u001b[1;33m+\u001b[0m \u001b[1;34m\" \"\u001b[0m \u001b[1;33m+\u001b[0m \u001b[0mnumber_to_words\u001b[0m\u001b[1;33m(\u001b[0m\u001b[0mremainder\u001b[0m\u001b[1;33m)\u001b[0m \u001b[1;33m+\u001b[0m \u001b[0mdecimal_part\u001b[0m\u001b[1;33m\u001b[0m\u001b[1;33m\u001b[0m\u001b[0m\n\u001b[0m\u001b[0;32m     53\u001b[0m \u001b[1;33m\u001b[0m\u001b[0m\n\u001b[0;32m     54\u001b[0m     \u001b[1;32mreturn\u001b[0m \u001b[1;34m\"Number out of range.\"\u001b[0m\u001b[1;33m\u001b[0m\u001b[1;33m\u001b[0m\u001b[0m\n",
      "... last 1 frames repeated, from the frame below ...\n",
      "\u001b[1;32m~\\AppData\\Local\\Temp\\ipykernel_16204\\818824220.py\u001b[0m in \u001b[0;36mnumber_to_words\u001b[1;34m(number)\u001b[0m\n\u001b[0;32m     50\u001b[0m             \u001b[0mquotient\u001b[0m \u001b[1;33m=\u001b[0m \u001b[0mnumber\u001b[0m \u001b[1;33m//\u001b[0m \u001b[0mprevious_magnitude\u001b[0m\u001b[1;33m\u001b[0m\u001b[1;33m\u001b[0m\u001b[0m\n\u001b[0;32m     51\u001b[0m             \u001b[0mremainder\u001b[0m \u001b[1;33m=\u001b[0m \u001b[0mnumber\u001b[0m \u001b[1;33m%\u001b[0m \u001b[0mprevious_magnitude\u001b[0m\u001b[1;33m\u001b[0m\u001b[1;33m\u001b[0m\u001b[0m\n\u001b[1;32m---> 52\u001b[1;33m             \u001b[1;32mreturn\u001b[0m \u001b[0mnumber_to_words\u001b[0m\u001b[1;33m(\u001b[0m\u001b[0mquotient\u001b[0m\u001b[1;33m)\u001b[0m \u001b[1;33m+\u001b[0m \u001b[1;34m\" \"\u001b[0m \u001b[1;33m+\u001b[0m \u001b[0mword\u001b[0m \u001b[1;33m+\u001b[0m \u001b[1;34m\" \"\u001b[0m \u001b[1;33m+\u001b[0m \u001b[0mnumber_to_words\u001b[0m\u001b[1;33m(\u001b[0m\u001b[0mremainder\u001b[0m\u001b[1;33m)\u001b[0m \u001b[1;33m+\u001b[0m \u001b[0mdecimal_part\u001b[0m\u001b[1;33m\u001b[0m\u001b[1;33m\u001b[0m\u001b[0m\n\u001b[0m\u001b[0;32m     53\u001b[0m \u001b[1;33m\u001b[0m\u001b[0m\n\u001b[0;32m     54\u001b[0m     \u001b[1;32mreturn\u001b[0m \u001b[1;34m\"Number out of range.\"\u001b[0m\u001b[1;33m\u001b[0m\u001b[1;33m\u001b[0m\u001b[0m\n",
      "\u001b[1;31mRecursionError\u001b[0m: maximum recursion depth exceeded while getting the str of an object"
     ]
    }
   ],
   "source": [
    "def number_to_words(number):\n",
    "    # Define a dictionary for numbers up to 19\n",
    "    num_dict = {\n",
    "        0: \"zero\", 1: \"one\", 2: \"two\", 3: \"three\", 4: \"four\", 5: \"five\",\n",
    "        6: \"six\", 7: \"seven\", 8: \"eight\", 9: \"nine\", 10: \"ten\", 11: \"eleven\",\n",
    "        12: \"twelve\", 13: \"thirteen\", 14: \"fourteen\", 15: \"fifteen\",\n",
    "        16: \"sixteen\", 17: \"seventeen\", 18: \"eighteen\", 19: \"nineteen\"\n",
    "    }\n",
    "\n",
    "    # Define a dictionary for tens\n",
    "    tens_dict = {\n",
    "        2: \"twenty\", 3: \"thirty\", 4: \"forty\", 5: \"fifty\", 6: \"sixty\",\n",
    "        7: \"seventy\", 8: \"eighty\", 9: \"ninety\"\n",
    "    }\n",
    "\n",
    "    # Define a dictionary for magnitudes\n",
    "    magnitude_dict = {\n",
    "        100: \"hundred\", 1000: \"thousand\", 1000000: \"million\",\n",
    "        1000000000: \"billion\", 1000000000000: \"trillion\",\n",
    "        1000000000000000: \"quadrillion\", 1000000000000000000: \"quintillion\"\n",
    "        # Add more magnitudes as needed\n",
    "    }\n",
    "\n",
    "    # Handle the decimal part\n",
    "    decimal_part = \"\"\n",
    "    if \".\" in str(number):\n",
    "        number, decimal_part = str(number).split(\".\")\n",
    "        decimal_part = \" point \" + decimal_part\n",
    "\n",
    "    # Convert the number to words\n",
    "    try:\n",
    "        number = int(number)\n",
    "    except ValueError:\n",
    "        return \"Invalid number.\"\n",
    "\n",
    "    if number < 0:\n",
    "        return \"Minus \" + number_to_words(abs(number))\n",
    "\n",
    "    if number < 20:\n",
    "        return num_dict[number] + decimal_part\n",
    "\n",
    "    if number < 100:\n",
    "        tens = number // 10\n",
    "        ones = number % 10\n",
    "        return tens_dict[tens] + \" \" + num_dict[ones] + decimal_part\n",
    "\n",
    "    for magnitude, word in magnitude_dict.items():\n",
    "        if number < magnitude:\n",
    "            previous_magnitude = magnitude // 1000\n",
    "            quotient = number // previous_magnitude\n",
    "            remainder = number % previous_magnitude\n",
    "            return number_to_words(quotient) + \" \" + word + \" \" + number_to_words(remainder) + decimal_part\n",
    "\n",
    "    return \"Number out of range.\"\n",
    "\n",
    "result = number_to_words(77523654545.5650102365)\n",
    "print(result)\n"
   ]
  },
  {
   "cell_type": "code",
   "execution_count": 12,
   "metadata": {},
   "outputs": [],
   "source": [
    "ONES = [\"\", \"One\", \"Two\", \"Three\", \"Four\", \"Five\", \"Six\", \"Seven\", \"Eight\", \"Nine\"]\n",
    "TEENS = [\"Ten\", \"Eleven\", \"Twelve\", \"Thirteen\", \"Fourteen\", \"Fifteen\", \"Sixteen\", \"Seventeen\", \"Eighteen\", \"Nineteen\"]\n",
    "TENS = [\"\", \"\", \"Twenty\", \"Thirty\", \"Forty\", \"Fifty\", \"Sixty\", \"Seventy\", \"Eighty\", \"Ninety\"]\n",
    "THOUSANDS = [\"\", \"Thousand\", \"Million\", \"Billion\", \"Trillion\", \"Quadrillion\", \"Quintillion\", \"Sextillion\", \"Septillion\", \"Octillion\", \"Nonillion\", \"Decillion\"]\n",
    "\n",
    "\n",
    "def convert_group_of_three_digits_to_words(num):\n",
    "    \"\"\"\n",
    "    Convert a group of three digits to its word representation.\n",
    "    :param num: The group of three digits to convert.\n",
    "    :type num: int\n",
    "    :return: The word representation of the group of three digits.\n",
    "    :rtype: str\n",
    "    \"\"\"\n",
    "    words = \"\"\n",
    "    hundreds = num // 100\n",
    "    num %= 100\n",
    "    if hundreds != 0:\n",
    "        words = ONES[hundreds] + \" Hundred\"\n",
    "        if num != 0:\n",
    "            words += \" \"\n",
    "    if num == 0:\n",
    "        return words\n",
    "    elif num < 10:\n",
    "        words += ONES[num]\n",
    "    elif num < 20:\n",
    "        words += TEENS[num-10]\n",
    "    else:\n",
    "        tens = num // 10\n",
    "        ones = num % 10\n",
    "        words += TENS[tens]\n",
    "        if ones != 0:\n",
    "            words += \" \" + ONES[ones]\n",
    "    return words\n",
    "\n",
    "\n",
    "def convert_number_to_words(number, case=\"propercase\"):\n",
    "    if not isinstance(number, (int, float)):\n",
    "        raise ValueError(\"Number must be an integer or float.\")\n",
    "    if number == 0:\n",
    "        return \"Zero\"\n",
    "    \n",
    "    words = \"\"\n",
    "    if number < 0:\n",
    "        words = \"Minus \"\n",
    "        number = abs(number)\n",
    "    \n",
    "    integer_part = int(number)\n",
    "    decimal_part = int(round((number - integer_part) * 100))  # Rounded to two decimal places\n",
    "    \n",
    "    i = 0\n",
    "    while integer_part > 0:\n",
    "        group_of_three_digits = integer_part % 1000\n",
    "        integer_part //= 1000\n",
    "        \n",
    "        if group_of_three_digits != 0:\n",
    "            group_of_three_digits_words = convert_group_of_three_digits_to_words(group_of_three_digits)\n",
    "            if i > 0:\n",
    "                group_of_three_digits_words += \" \" + THOUSANDS[i]\n",
    "            if words == \"\":\n",
    "                words = group_of_three_digits_words\n",
    "            else:\n",
    "                words = group_of_three_digits_words + \" \" + words\n",
    "        i += 1\n",
    "    \n",
    "    if decimal_part != 0:\n",
    "        if words != \"\":\n",
    "            words += \" and \"\n",
    "        \n",
    "        if decimal_part < 10:\n",
    "            words += ONES[decimal_part]\n",
    "        else:\n",
    "            tens = decimal_part // 10\n",
    "            ones = decimal_part % 10\n",
    "            words += TENS[tens]\n",
    "            if ones != 0:\n",
    "                words += \" \" + ONES[ones]\n",
    "        words += \" Cents\"\n",
    "    \n",
    "    if case == \"lowercase\":\n",
    "        return words.lower()\n",
    "    elif case == \"uppercase\":\n",
    "        return words.upper()\n",
    "    else:\n",
    "        return words.capitalize()\n",
    "       \n"
   ]
  },
  {
   "cell_type": "code",
   "execution_count": 13,
   "metadata": {},
   "outputs": [
    {
     "data": {
      "text/plain": [
       "'Seven million seven hundred fifty four thousand five hundred forty five and fifty seven cents'"
      ]
     },
     "execution_count": 13,
     "metadata": {},
     "output_type": "execute_result"
    }
   ],
   "source": [
    "convert_number_to_words(7754545.5650)"
   ]
  },
  {
   "cell_type": "code",
   "execution_count": 47,
   "metadata": {},
   "outputs": [
    {
     "data": {
      "text/plain": [
       "'Five hundred forty five and seven hundred fifty four thousand and seven million and fifty four'"
      ]
     },
     "execution_count": 47,
     "metadata": {},
     "output_type": "execute_result"
    }
   ],
   "source": [
    "convert_number_to_words(7754545.5355)"
   ]
  },
  {
   "cell_type": "code",
   "execution_count": 64,
   "metadata": {},
   "outputs": [],
   "source": [
    "def number_to_words(num):\n",
    "    UNITS = ('', 'one', 'two', 'three', 'four', 'five', 'six', 'seven', 'eight', 'nine')\n",
    "    TEENS = ('', 'eleven', 'twelve', 'thirteen', 'fourteen', 'fifteen', 'sixteen', 'seventeen', 'eighteen', 'nineteen')\n",
    "    TENS = ('', 'ten', 'twenty', 'thirty', 'forty', 'fifty', 'sixty', 'seventy', 'eighty', 'ninety')\n",
    "    THOUSANDS = ('', 'thousand', 'million', 'billion', 'trillion', 'quadrillion', 'quintillion', 'sextillion', 'septillion', 'octillion', 'nonillion', 'decillion', 'undecillion', 'duodecillion', 'tredecillion', 'quattuordecillion', 'quindecillion', 'sexdecillion', 'septendecillion', 'octodecillion', 'novemdecillion', 'vigintillion')\n",
    "    DECIMALS = ('', 'point')\n",
    "    \n",
    "    try:\n",
    "        # convert the number to string and split it by decimal point\n",
    "        num_parts = str(num).split('.')\n",
    "    \n",
    "        # convert the integer part to words\n",
    "        integer_part = int(num_parts[0])\n",
    "        if integer_part == 0:\n",
    "            integer_word = 'zero'\n",
    "        else:\n",
    "            integer_word = ''\n",
    "            i = 0\n",
    "            while integer_part > 0:\n",
    "                # split the integer into groups of three digits\n",
    "                digits = integer_part % 1000\n",
    "                if digits > 0:\n",
    "                    # convert the three digits to words and append the appropriate thousands unit\n",
    "                    digit_words = ''\n",
    "                    if digits // 100 > 0:\n",
    "                        digit_words += UNITS[digits // 100] + ' hundred '\n",
    "                    if digits % 100 == 0:\n",
    "                        digit_words += ''\n",
    "                    elif digits % 100 < 10:\n",
    "                        digit_words += UNITS[digits % 10] + ' '\n",
    "                    elif digits % 100 < 20:\n",
    "                        digit_words += TEENS[digits % 10] + ' '\n",
    "                    else:\n",
    "                        digit_words += TENS[digits % 100 // 10] + ' ' + UNITS[digits % 10] + ' '\n",
    "                    integer_word = digit_words + THOUSANDS[i] + ' ' + integer_word\n",
    "                integer_part //= 1000\n",
    "                i += 1\n",
    "    \n",
    "        # convert the decimal part to words\n",
    "        if len(num_parts) > 1:\n",
    "            decimal_part = num_parts[1]\n",
    "            decimal_word = ''\n",
    "            for digit in decimal_part:\n",
    "                decimal_word += UNITS[int(digit)] + ' '\n",
    "            decimal_word = DECIMALS[1] + ' ' + decimal_word.rstrip()\n",
    "        else:\n",
    "            decimal_word = ''\n",
    "    \n",
    "        # combine the integer and decimal parts into a single word string\n",
    "        word = integer_word + decimal_word\n",
    "    \n",
    "        return word.rstrip()\n",
    "    \n",
    "    except ValueError:\n",
    "        return 'Invalid input: Please provide a valid number.'\n",
    "\n"
   ]
  },
  {
   "cell_type": "code",
   "execution_count": 65,
   "metadata": {},
   "outputs": [
    {
     "data": {
      "text/plain": [
       "'Invalid input: Please provide a valid number.'"
      ]
     },
     "execution_count": 65,
     "metadata": {},
     "output_type": "execute_result"
    }
   ],
   "source": [
    "number_to_words(2121111111212111113133333333.22211111111)"
   ]
  },
  {
   "cell_type": "code",
   "execution_count": 66,
   "metadata": {},
   "outputs": [],
   "source": [
    "def number_to_words(num):\n",
    "    UNITS = ('', 'one', 'two', 'three', 'four', 'five', 'six', 'seven', 'eight', 'nine')\n",
    "    TEENS = ('', 'eleven', 'twelve', 'thirteen', 'fourteen', 'fifteen', 'sixteen', 'seventeen', 'eighteen', 'nineteen')\n",
    "    TENS = ('', 'ten', 'twenty', 'thirty', 'forty', 'fifty', 'sixty', 'seventy', 'eighty', 'ninety')\n",
    "    THOUSANDS = ('', 'thousand', 'million', 'billion', 'trillion', 'quadrillion', 'quintillion', 'sextillion', 'septillion', 'octillion', 'nonillion', 'decillion', 'undecillion', 'duodecillion', 'tredecillion', 'quattuordecillion', 'quindecillion', 'sexdecillion', 'septendecillion', 'octodecillion', 'novemdecillion', 'vigintillion')\n",
    "    DECIMALS = ('', 'point')\n",
    "    \n",
    "    try:\n",
    "        # convert the number to string and split it by decimal point\n",
    "        num_parts = str(num).split('.')\n",
    "    \n",
    "        # convert the integer part to words\n",
    "        integer_part = int(num_parts[0])\n",
    "        if integer_part == 0:\n",
    "            integer_word = 'zero'\n",
    "        else:\n",
    "            integer_word = ''\n",
    "            i = 0\n",
    "            while integer_part > 0:\n",
    "                # split the integer into groups of three digits\n",
    "                digits = integer_part % 1000\n",
    "                if digits > 0:\n",
    "                    # convert the three digits to words and append the appropriate thousands unit\n",
    "                    digit_words = ''\n",
    "                    if digits // 100 > 0:\n",
    "                        digit_words += UNITS[digits // 100] + ' hundred '\n",
    "                    if digits % 100 == 0:\n",
    "                        digit_words += ''\n",
    "                    elif digits % 100 < 10:\n",
    "                        digit_words += UNITS[digits % 10] + ' '\n",
    "                    elif digits % 100 < 20:\n",
    "                        digit_words += TEENS[digits % 10] + ' '\n",
    "                    else:\n",
    "                        digit_words += TENS[digits % 100 // 10] + ' ' + UNITS[digits % 10] + ' '\n",
    "                    integer_word = digit_words + THOUSANDS[i] + ' ' + integer_word\n",
    "                integer_part //= 1000\n",
    "                i += 1\n",
    "    \n",
    "        # convert the decimal part to words\n",
    "        if len(num_parts) > 1:\n",
    "            decimal_part = num_parts[1]\n",
    "            decimal_word = ''\n",
    "            for digit in decimal_part:\n",
    "                decimal_word += UNITS[int(digit)] + ' '\n",
    "            decimal_word = DECIMALS[1] + ' ' + decimal_word.rstrip()\n",
    "        else:\n",
    "            decimal_word = ''\n",
    "    \n",
    "        # combine the integer and decimal parts into a single word string\n",
    "        word = integer_word + decimal_word\n",
    "    \n",
    "        return word.rstrip()\n",
    "    \n",
    "    except ValueError:\n",
    "        return 'Invalid input: Please provide a valid number.'\n"
   ]
  },
  {
   "cell_type": "code",
   "execution_count": 73,
   "metadata": {},
   "outputs": [
    {
     "data": {
      "text/plain": [
       "''"
      ]
     },
     "execution_count": 73,
     "metadata": {},
     "output_type": "execute_result"
    }
   ],
   "source": [
    "number_to_words(-2121113333000333)"
   ]
  },
  {
   "cell_type": "code",
   "execution_count": 74,
   "metadata": {},
   "outputs": [
    {
     "name": "stdout",
     "output_type": "stream",
     "text": [
      "eleven two hundred three hundred million four hundred five hundred six hundred thousand seven hundred eight hundred nine hundred\n",
      "three point one four one five nine\n",
      "minus nine hundred thousand eight hundred seven hundred six hundred   point five four three two one\n"
     ]
    }
   ],
   "source": [
    "UNITS = ['', 'one', 'two', 'three', 'four', 'five', 'six', 'seven', 'eight', 'nine']\n",
    "TEENS = ['', 'eleven', 'twelve', 'thirteen', 'fourteen', 'fifteen', 'sixteen', 'seventeen', 'eighteen', 'nineteen']\n",
    "TENS = ['', 'ten', 'twenty', 'thirty', 'forty', 'fifty', 'sixty', 'seventy', 'eighty', 'ninety']\n",
    "THOUSANDS = ['', 'thousand', 'million', 'billion', 'trillion']\n",
    "\n",
    "def convert_number_to_words(number):\n",
    "    if number == 0:\n",
    "        return 'zero'\n",
    "    elif number < 0:\n",
    "        return 'minus ' + convert_number_to_words(abs(number))\n",
    "\n",
    "    num_str = str(number)\n",
    "    if '.' in num_str:\n",
    "        integer_part, decimal_part = num_str.split('.')\n",
    "        words = convert_integer_to_words(int(integer_part))\n",
    "        words += ' point ' + convert_decimal_to_words(decimal_part)\n",
    "    else:\n",
    "        words = convert_integer_to_words(number)\n",
    "\n",
    "    return words.strip()\n",
    "\n",
    "def convert_integer_to_words(number):\n",
    "    if number < 10:\n",
    "        return UNITS[number]\n",
    "    elif number < 20:\n",
    "        return TEENS[number % 10]\n",
    "    elif number < 100:\n",
    "        return TENS[number // 10] + ' ' + convert_integer_to_words(number % 10)\n",
    "    else:\n",
    "        words = ''\n",
    "        for i, digit in enumerate(str(number)[::-1]):\n",
    "            if i % 3 == 0:\n",
    "                words = THOUSANDS[i // 3] + ' ' + words\n",
    "            if i % 3 == 2 and digit == '1':\n",
    "                words = TEENS[1] + ' ' + words\n",
    "            elif digit != '0':\n",
    "                words = UNITS[int(digit)] + ' hundred ' + words\n",
    "        return words\n",
    "\n",
    "def convert_decimal_to_words(decimal):\n",
    "    words = ''\n",
    "    for digit in decimal:\n",
    "        words += UNITS[int(digit)] + ' '\n",
    "    return words.strip()\n",
    "\n",
    "# Example usage\n",
    "print(convert_number_to_words(123456789))\n",
    "print(convert_number_to_words(3.14159))\n",
    "print(convert_number_to_words(-9876.54321))\n"
   ]
  },
  {
   "cell_type": "code",
   "execution_count": 75,
   "metadata": {},
   "outputs": [
    {
     "name": "stdout",
     "output_type": "stream",
     "text": [
      "eleven two hundred three hundred million four hundred five hundred six hundred thousand seven hundred eight hundred nine hundred\n",
      "three point one four one five nine\n",
      "minus nine hundred thousand eight hundred seven hundred six hundred   point five four three two one\n",
      "eleven two hundred three hundred octodecillion four hundred five hundred six hundred septendecillion seven hundred eight hundred nine hundred sexdecillion one hundred two hundred quindecillion three hundred four hundred five hundred quattuordecillion six hundred seven hundred eight hundred tredecillion nine hundred one hundred duodecillion two hundred three hundred four hundred undecillion five hundred six hundred seven hundred decillion eight hundred nine hundred nonillion eleven two hundred three hundred octillion four hundred five hundred six hundred septillion seven hundred eight hundred nine hundred sextillion one hundred two hundred quintillion three hundred four hundred five hundred quadrillion six hundred seven hundred eight hundred trillion nine hundred one hundred billion two hundred three hundred four hundred million five hundred six hundred seven hundred thousand eight hundred nine hundred\n"
     ]
    }
   ],
   "source": [
    "UNITS = ['', 'one', 'two', 'three', 'four', 'five', 'six', 'seven', 'eight', 'nine']\n",
    "TEENS = ['', 'eleven', 'twelve', 'thirteen', 'fourteen', 'fifteen', 'sixteen', 'seventeen', 'eighteen', 'nineteen']\n",
    "TENS = ['', 'ten', 'twenty', 'thirty', 'forty', 'fifty', 'sixty', 'seventy', 'eighty', 'ninety']\n",
    "THOUSANDS = ['', 'thousand', 'million', 'billion', 'trillion', 'quadrillion', 'quintillion', 'sextillion',\n",
    "             'septillion', 'octillion', 'nonillion', 'decillion', 'undecillion', 'duodecillion',\n",
    "             'tredecillion', 'quattuordecillion', 'quindecillion', 'sexdecillion', 'septendecillion',\n",
    "             'octodecillion', 'novemdecillion', 'vigintillion']\n",
    "\n",
    "def convert_number_to_words(number):\n",
    "    if number == 0:\n",
    "        return 'zero'\n",
    "    elif number < 0:\n",
    "        return 'minus ' + convert_number_to_words(abs(number))\n",
    "\n",
    "    num_str = str(number)\n",
    "    if '.' in num_str:\n",
    "        integer_part, decimal_part = num_str.split('.')\n",
    "        words = convert_integer_to_words(int(integer_part))\n",
    "        words += ' point ' + convert_decimal_to_words(decimal_part)\n",
    "    else:\n",
    "        words = convert_integer_to_words(number)\n",
    "\n",
    "    return words.strip()\n",
    "\n",
    "def convert_integer_to_words(number):\n",
    "    if number < 10:\n",
    "        return UNITS[number]\n",
    "    elif number < 20:\n",
    "        return TEENS[number % 10]\n",
    "    elif number < 100:\n",
    "        return TENS[number // 10] + ' ' + convert_integer_to_words(number % 10)\n",
    "    else:\n",
    "        words = ''\n",
    "        for i, digit in enumerate(str(number)[::-1]):\n",
    "            if i % 3 == 0:\n",
    "                words = THOUSANDS[i // 3] + ' ' + words\n",
    "            if i % 3 == 2 and digit == '1':\n",
    "                words = TEENS[1] + ' ' + words\n",
    "            elif digit != '0':\n",
    "                words = UNITS[int(digit)] + ' hundred ' + words\n",
    "        return words\n",
    "\n",
    "def convert_decimal_to_words(decimal):\n",
    "    words = ''\n",
    "    for digit in decimal:\n",
    "        words += UNITS[int(digit)] + ' '\n",
    "    return words.strip()\n",
    "\n",
    "# Example usage\n",
    "print(convert_number_to_words(123456789))\n",
    "print(convert_number_to_words(3.14159))\n",
    "print(convert_number_to_words(-9876.54321))\n",
    "print(convert_number_to_words(123456789012345678901234567890123456789012345678901234567890))\n"
   ]
  },
  {
   "cell_type": "code",
   "execution_count": 78,
   "metadata": {},
   "outputs": [
    {
     "name": "stdout",
     "output_type": "stream",
     "text": [
      "eleven two hundred three hundred million four hundred five hundred six hundred thousand seven hundred eight hundred nine hundred\n",
      "three point one four one five nine\n",
      "minus nine hundred thousand eight hundred seven hundred six hundred  point five four three two one\n",
      "eleven two hundred three hundred octodecillion four hundred five hundred six hundred septendecillion seven hundred eight hundred nine hundred sexdecillion one hundred two hundred quindecillion three hundred four hundred five hundred quattuordecillion six hundred seven hundred eight hundred tredecillion nine hundred one hundred duodecillion two hundred three hundred four hundred undecillion five hundred six hundred seven hundred decillion eight hundred nine hundred nonillion eleven two hundred three hundred octillion four hundred five hundred six hundred septillion seven hundred eight hundred nine hundred sextillion one hundred two hundred quintillion three hundred four hundred five hundred quadrillion six hundred seven hundred eight hundred trillion nine hundred one hundred billion two hundred three hundred four hundred million five hundred six hundred seven hundred thousand eight hundred nine hundred\n"
     ]
    }
   ],
   "source": [
    "UNITS = ['', 'one', 'two', 'three', 'four', 'five', 'six', 'seven', 'eight', 'nine']\n",
    "TEENS = ['', 'eleven', 'twelve', 'thirteen', 'fourteen', 'fifteen', 'sixteen', 'seventeen', 'eighteen', 'nineteen']\n",
    "TENS = ['', 'ten', 'twenty', 'thirty', 'forty', 'fifty', 'sixty', 'seventy', 'eighty', 'ninety']\n",
    "THOUSANDS = ['', 'thousand', 'million', 'billion', 'trillion', 'quadrillion', 'quintillion', 'sextillion',\n",
    "             'septillion', 'octillion', 'nonillion', 'decillion', 'undecillion', 'duodecillion',\n",
    "             'tredecillion', 'quattuordecillion', 'quindecillion', 'sexdecillion', 'septendecillion',\n",
    "             'octodecillion', 'novemdecillion', 'vigintillion']\n",
    "\n",
    "def convert_number_to_words(number):\n",
    "    if number == 0:\n",
    "        return 'zero'\n",
    "    elif number < 0:\n",
    "        return 'minus ' + convert_number_to_words(abs(number))\n",
    "\n",
    "    num_str = str(number)\n",
    "    if '.' in num_str:\n",
    "        integer_part, decimal_part = num_str.split('.')\n",
    "        words = convert_integer_to_words(int(integer_part))\n",
    "        words += ' point ' + convert_decimal_to_words(decimal_part)\n",
    "    else:\n",
    "        words = convert_integer_to_words(number)\n",
    "\n",
    "    return words.strip()\n",
    "\n",
    "def convert_integer_to_words(number):\n",
    "    if number < 10:\n",
    "        return UNITS[number]\n",
    "    elif number < 20:\n",
    "        return TEENS[number % 10]\n",
    "    elif number < 100:\n",
    "        return TENS[number // 10] + ' ' + convert_integer_to_words(number % 10)\n",
    "    else:\n",
    "        words = ''\n",
    "        for i, digit in enumerate(str(number)[::-1]):\n",
    "            if i % 3 == 0 and i != 0:\n",
    "                words = THOUSANDS[i // 3] + ' ' + words\n",
    "            if i % 3 == 2 and digit == '1':\n",
    "                words = TEENS[1] + ' ' + words\n",
    "            elif digit != '0':\n",
    "                words = UNITS[int(digit)] + ' hundred ' + words\n",
    "        return words\n",
    "\n",
    "def convert_decimal_to_words(decimal):\n",
    "    words = ''\n",
    "    for digit in decimal:\n",
    "        words += UNITS[int(digit)] + ' '\n",
    "    return words.strip()\n",
    "\n",
    "# Example usage\n",
    "print(convert_number_to_words(123456789))\n",
    "print(convert_number_to_words(3.14159))\n",
    "print(convert_number_to_words(-9876.54321))\n",
    "print(convert_number_to_words(123456789012345678901234567890123456789012345678901234567890))\n"
   ]
  },
  {
   "cell_type": "code",
   "execution_count": 81,
   "metadata": {},
   "outputs": [
    {
     "name": "stdout",
     "output_type": "stream",
     "text": [
      "one hundred twenty three million four hundred fifty six thousand seven hundred eighty nine\n",
      "three point fourteen\n",
      "minus nine thousand eight hundred seventy six point fifty four\n",
      "one hundred twenty three octodecillion four hundred fifty six septendecillion seven hundred eighty nine sexdecillion twelve quindecillion three hundred forty five quattuordecillion six hundred seventy eight tredecillion nine hundred one duodecillion two hundred thirty four undecillion five hundred sixty seven decillion eight hundred ninety nonillion one hundred twenty three octillion four hundred fifty six septillion seven hundred eighty nine sextillion twelve quintillion three hundred forty five quadrillion six hundred seventy eight trillion nine hundred one billion two hundred thirty four million five hundred sixty seven thousand eight hundred ninety\n"
     ]
    }
   ],
   "source": [
    "ONES = [\n",
    "    \"\", \"one\", \"two\", \"three\", \"four\", \"five\", \"six\", \"seven\", \"eight\", \"nine\", \"ten\",\n",
    "    \"eleven\", \"twelve\", \"thirteen\", \"fourteen\", \"fifteen\", \"sixteen\", \"seventeen\", \"eighteen\", \"nineteen\"\n",
    "]\n",
    "\n",
    "TENS = [\n",
    "    \"\", \"\", \"twenty\", \"thirty\", \"forty\", \"fifty\", \"sixty\", \"seventy\", \"eighty\", \"ninety\"\n",
    "]\n",
    "\n",
    "THOUSANDS = [\n",
    "    \"\", \"thousand\", \"million\", \"billion\", \"trillion\", \"quadrillion\", \"quintillion\", \"sextillion\",\n",
    "    \"septillion\", \"octillion\", \"nonillion\", \"decillion\", \"undecillion\", \"duodecillion\", \"tredecillion\",\n",
    "    \"quattuordecillion\", \"quindecillion\", \"sexdecillion\", \"septendecillion\", \"octodecillion\",\n",
    "    \"novemdecillion\", \"vigintillion\"\n",
    "]\n",
    "\n",
    "\n",
    "def number_to_words(number):\n",
    "    if number == 0:\n",
    "        return \"zero\"\n",
    "\n",
    "    if number < 0:\n",
    "        return \"minus \" + number_to_words(abs(number))\n",
    "\n",
    "    # Handling decimal part\n",
    "    if isinstance(number, float):\n",
    "        whole_part = int(number)\n",
    "        decimal_part = int(round((number - whole_part) * 100))\n",
    "        result = number_to_words(whole_part)\n",
    "        result += \" point \" + number_to_words(decimal_part) if decimal_part > 0 else \"\"\n",
    "        return result\n",
    "\n",
    "    # Handling whole numbers\n",
    "    words = []\n",
    "    group_count = 0\n",
    "\n",
    "    while number > 0:\n",
    "        triplet = number % 1000\n",
    "        if triplet > 0:\n",
    "            triplet_words = []\n",
    "            hundreds_digit = triplet // 100\n",
    "            tens_digit = (triplet % 100) // 10\n",
    "            ones_digit = triplet % 10\n",
    "\n",
    "            if hundreds_digit > 0:\n",
    "                triplet_words.append(ONES[hundreds_digit] + \" hundred\")\n",
    "\n",
    "            if tens_digit >= 2:\n",
    "                triplet_words.append(TENS[tens_digit])\n",
    "                if ones_digit > 0:\n",
    "                    triplet_words.append(ONES[ones_digit])\n",
    "            elif tens_digit == 1:\n",
    "                triplet_words.append(ONES[tens_digit * 10 + ones_digit])\n",
    "            elif ones_digit > 0:\n",
    "                triplet_words.append(ONES[ones_digit])\n",
    "\n",
    "            if group_count > 0:\n",
    "                triplet_words.append(THOUSANDS[group_count])\n",
    "\n",
    "            words = triplet_words + words\n",
    "\n",
    "        number //= 1000\n",
    "        group_count += 1\n",
    "\n",
    "    return \" \".join(words)\n",
    "\n",
    "\n",
    "# Example usage\n",
    "print(number_to_words(123456789))\n",
    "print(number_to_words(3.14159))\n",
    "print(number_to_words(-9876.54321))\n",
    "print(number_to_words(123456789012345678901234567890123456789012345678901234567890))"
   ]
  },
  {
   "cell_type": "code",
   "execution_count": 83,
   "metadata": {},
   "outputs": [
    {
     "name": "stdout",
     "output_type": "stream",
     "text": [
      "one hundred twenty three million four hundred fifty six thousand seven hundred eighty nine\n",
      "three point one four one five nine\n",
      "minus nine thousand eight hundred seventy six point five four three two one\n",
      "one hundred twenty three octodecillion four hundred fifty six septendecillion seven hundred eighty nine sexdecillion twelve quindecillion three hundred forty five quattuordecillion six hundred seventy eight tredecillion nine hundred one duodecillion two hundred thirty four undecillion five hundred sixty seven decillion eight hundred ninety nonillion one hundred twenty three octillion four hundred fifty six septillion seven hundred eighty nine sextillion twelve quintillion three hundred forty five quadrillion six hundred seventy eight trillion nine hundred one billion two hundred thirty four million five hundred sixty seven thousand eight hundred ninety\n"
     ]
    }
   ],
   "source": [
    "ONES = [\n",
    "    \"\", \"one\", \"two\", \"three\", \"four\", \"five\", \"six\", \"seven\", \"eight\", \"nine\", \"ten\",\n",
    "    \"eleven\", \"twelve\", \"thirteen\", \"fourteen\", \"fifteen\", \"sixteen\", \"seventeen\", \"eighteen\", \"nineteen\"\n",
    "]\n",
    "\n",
    "TENS = [\n",
    "    \"\", \"\", \"twenty\", \"thirty\", \"forty\", \"fifty\", \"sixty\", \"seventy\", \"eighty\", \"ninety\"\n",
    "]\n",
    "\n",
    "THOUSANDS = [\n",
    "    \"\", \"thousand\", \"million\", \"billion\", \"trillion\", \"quadrillion\", \"quintillion\", \"sextillion\",\n",
    "    \"septillion\", \"octillion\", \"nonillion\", \"decillion\", \"undecillion\", \"duodecillion\", \"tredecillion\",\n",
    "    \"quattuordecillion\", \"quindecillion\", \"sexdecillion\", \"septendecillion\", \"octodecillion\",\n",
    "    \"novemdecillion\", \"vigintillion\"\n",
    "]\n",
    "\n",
    "\n",
    "def number_to_words(number):\n",
    "    if number == 0:\n",
    "        return \"zero\"\n",
    "\n",
    "    if number < 0:\n",
    "        return \"minus \" + number_to_words(abs(number))\n",
    "\n",
    "    number_str = str(number)\n",
    "    if '.' in number_str:\n",
    "        whole_part, decimal_part = number_str.split('.')\n",
    "        words = number_to_words(int(whole_part)) + \" point \" + convert_decimal(decimal_part)\n",
    "    else:\n",
    "        words = convert_whole_number(int(number_str))\n",
    "\n",
    "    return words\n",
    "\n",
    "\n",
    "def convert_whole_number(number):\n",
    "    if number == 0:\n",
    "        return \"\"\n",
    "\n",
    "    words = \"\"\n",
    "    group_count = 0\n",
    "\n",
    "    while number > 0:\n",
    "        triplet = number % 1000\n",
    "        if triplet > 0:\n",
    "            triplet_words = []\n",
    "            hundreds_digit = triplet // 100\n",
    "            tens_digit = (triplet % 100) // 10\n",
    "            ones_digit = triplet % 10\n",
    "\n",
    "            if hundreds_digit > 0:\n",
    "                triplet_words.append(ONES[hundreds_digit] + \" hundred\")\n",
    "\n",
    "            if tens_digit >= 2:\n",
    "                triplet_words.append(TENS[tens_digit])\n",
    "                if ones_digit > 0:\n",
    "                    triplet_words.append(ONES[ones_digit])\n",
    "            elif tens_digit == 1:\n",
    "                triplet_words.append(ONES[tens_digit * 10 + ones_digit])\n",
    "            elif ones_digit > 0:\n",
    "                triplet_words.append(ONES[ones_digit])\n",
    "\n",
    "            if group_count > 0:\n",
    "                triplet_words.append(THOUSANDS[group_count])\n",
    "\n",
    "            words = \" \".join(triplet_words) + \" \" + words\n",
    "\n",
    "        number //= 1000\n",
    "        group_count += 1\n",
    "\n",
    "    return words.strip()\n",
    "\n",
    "\n",
    "def convert_decimal(decimal):\n",
    "    words = \"\"\n",
    "    for digit in decimal:\n",
    "        words += ONES[int(digit)] + \" \"\n",
    "\n",
    "    return words.strip()\n",
    "\n",
    "\n",
    "# Example usage\n",
    "print(number_to_words(123456789))\n",
    "print(number_to_words(3.14159))\n",
    "print(number_to_words(-9876.54321))\n",
    "print(number_to_words(123456789012345678901234567890123456789012345678901234567890))\n"
   ]
  },
  {
   "cell_type": "code",
   "execution_count": 84,
   "metadata": {},
   "outputs": [
    {
     "name": "stdout",
     "output_type": "stream",
     "text": [
      "zero\n",
      "one\n",
      "ten\n",
      "one hundred\n",
      "one thousand\n",
      "one thousand two hundred thirty four\n",
      "one million\n",
      "one billion\n",
      "one billion two hundred thirty four million five hundred sixty seven thousand eight hundred ninety\n",
      "minus one\n",
      "minus ten\n",
      "minus one hundred\n",
      "minus one thousand\n",
      "minus one thousand two hundred thirty four\n",
      "minus one million\n",
      "minus one billion\n",
      "minus one billion two hundred thirty four million five hundred sixty seven thousand eight hundred ninety\n",
      "three point one four\n",
      "one hundred twenty three point four five six\n",
      "one thousand point one\n",
      "twelve thousand three hundred forty five point six seven eight nine\n",
      "minus three point one four\n",
      "minus one hundred twenty three point four five six\n",
      "minus one thousand point one\n",
      "minus twelve thousand three hundred forty five point six seven eight nine\n"
     ]
    }
   ],
   "source": [
    "# Test cases for positive whole numbers\n",
    "print(number_to_words(0))  # zero\n",
    "print(number_to_words(1))  # one\n",
    "print(number_to_words(10))  # ten\n",
    "print(number_to_words(100))  # one hundred\n",
    "print(number_to_words(1000))  # one thousand\n",
    "print(number_to_words(1234))  # one thousand two hundred thirty four\n",
    "print(number_to_words(1000000))  # one million\n",
    "print(number_to_words(1000000000))  # one billion\n",
    "print(number_to_words(1234567890))  # one billion two hundred thirty four million five hundred sixty seven thousand eight hundred ninety\n",
    "\n",
    "# Test cases for negative whole numbers\n",
    "print(number_to_words(-1))  # minus one\n",
    "print(number_to_words(-10))  # minus ten\n",
    "print(number_to_words(-100))  # minus one hundred\n",
    "print(number_to_words(-1000))  # minus one thousand\n",
    "print(number_to_words(-1234))  # minus one thousand two hundred thirty four\n",
    "print(number_to_words(-1000000))  # minus one million\n",
    "print(number_to_words(-1000000000))  # minus one billion\n",
    "print(number_to_words(-1234567890))  # minus one billion two hundred thirty four million five hundred sixty seven thousand eight hundred ninety\n",
    "\n",
    "# Test cases for positive decimal numbers\n",
    "print(number_to_words(3.14))  # three point one four\n",
    "print(number_to_words(123.456))  # one hundred twenty three point four five six\n",
    "print(number_to_words(1000.001))  # one thousand point zero zero one\n",
    "print(number_to_words(12345.6789))  # twelve thousand three hundred forty five point six seven eight nine\n",
    "\n",
    "# Test cases for negative decimal numbers\n",
    "print(number_to_words(-3.14))  # minus three point one four\n",
    "print(number_to_words(-123.456))  # minus one hundred twenty three point four five six\n",
    "print(number_to_words(-1000.001))  # minus one thousand point zero zero one\n",
    "print(number_to_words(-12345.6789))  # minus twelve thousand three hundred forty five point six seven eight nine\n"
   ]
  },
  {
   "cell_type": "code",
   "execution_count": 106,
   "metadata": {},
   "outputs": [],
   "source": [
    "ONES = [\n",
    "    \"\", \"one\", \"two\", \"three\", \"four\", \"five\", \"six\", \"seven\", \"eight\", \"nine\", \"ten\",\n",
    "    \"eleven\", \"twelve\", \"thirteen\", \"fourteen\", \"fifteen\", \"sixteen\", \"seventeen\", \"eighteen\", \"nineteen\"\n",
    "]\n",
    "\n",
    "TENS = [\n",
    "    \"\", \"\", \"twenty\", \"thirty\", \"forty\", \"fifty\", \"sixty\", \"seventy\", \"eighty\", \"ninety\"\n",
    "]\n",
    "\n",
    "THOUSANDS = [\n",
    "    \"\", \"thousand\", \"million\", \"billion\", \"trillion\", \"quadrillion\", \"quintillion\", \"sextillion\",\n",
    "    \"septillion\", \"octillion\", \"nonillion\", \"decillion\", \"undecillion\", \"duodecillion\", \"tredecillion\",\n",
    "    \"quattuordecillion\", \"quindecillion\", \"sexdecillion\", \"septendecillion\", \"octodecillion\",\n",
    "    \"novemdecillion\", \"vigintillion\"\n",
    "]\n",
    "\n",
    "\n",
    "def number_to_words(number):\n",
    "    if not isinstance(number, (int, float)):\n",
    "        return number  # Return the original value if not a valid number\n",
    "\n",
    "    if number == 0:\n",
    "        return \"zero\"\n",
    "\n",
    "    if number < 0:\n",
    "        return \"minus \" + number_to_words(abs(number))\n",
    "\n",
    "    number_str = str(number)\n",
    "    if '.' in number_str:\n",
    "        whole_part, decimal_part = number_str.split('.')\n",
    "        words = number_to_words(int(whole_part)) + \" point \" + convert_decimal(decimal_part)\n",
    "    else:\n",
    "        words = convert_whole_number(int(number_str))\n",
    "\n",
    "    return words\n",
    "\n",
    "\n",
    "def convert_whole_number(number):\n",
    "    if number == 0:\n",
    "        return \"\"\n",
    "\n",
    "    words = \"\"\n",
    "    group_count = 0\n",
    "\n",
    "    while number > 0:\n",
    "        triplet = number % 1000\n",
    "        if triplet > 0:\n",
    "            triplet_words = []\n",
    "            hundreds_digit = triplet // 100\n",
    "            tens_digit = (triplet % 100) // 10\n",
    "            ones_digit = triplet % 10\n",
    "\n",
    "            if hundreds_digit > 0:\n",
    "                triplet_words.append(ONES[hundreds_digit] + \" hundred\")\n",
    "\n",
    "            if tens_digit >= 2:\n",
    "                triplet_words.append(TENS[tens_digit])\n",
    "                if ones_digit > 0:\n",
    "                    triplet_words.append(ONES[ones_digit])\n",
    "            elif tens_digit == 1:\n",
    "                triplet_words.append(ONES[tens_digit * 10 + ones_digit])\n",
    "            elif ones_digit > 0:\n",
    "                triplet_words.append(ONES[ones_digit])\n",
    "\n",
    "            if group_count > 0:\n",
    "                triplet_words.append(THOUSANDS[group_count])\n",
    "\n",
    "            words = \" \".join(triplet_words) + \" \" + words\n",
    "\n",
    "        number //= 1000\n",
    "        group_count += 1\n",
    "\n",
    "    return words.strip()\n",
    "\n",
    "\n",
    "def convert_decimal(decimal):\n",
    "    words = \"\"\n",
    "    for digit in decimal:\n",
    "        if digit == '0':\n",
    "            words += \"zero \"\n",
    "        else:\n",
    "            words += ONES[int(digit)] + \" \"\n",
    "\n",
    "    return words.strip()\n"
   ]
  },
  {
   "cell_type": "code",
   "execution_count": 107,
   "metadata": {},
   "outputs": [
    {
     "name": "stdout",
     "output_type": "stream",
     "text": [
      "zero\n",
      "one\n",
      "ten\n",
      "one hundred\n",
      "one thousand\n",
      "one thousand two hundred thirty four\n",
      "one million\n",
      "one billion\n",
      "one billion two hundred thirty four million five hundred sixty seven thousand eight hundred ninety\n",
      "minus one\n",
      "minus ten\n",
      "minus one hundred\n",
      "minus one thousand\n",
      "minus one thousand two hundred thirty four\n",
      "minus one million\n",
      "minus one billion\n",
      "minus one billion two hundred thirty four million five hundred sixty seven thousand eight hundred ninety\n",
      "three point one four\n",
      "one hundred twenty three point four five six\n",
      "one thousand point zero zero one\n",
      "twelve thousand three hundred forty five point six seven eight nine\n",
      "minus three point one four\n",
      "minus one hundred twenty three point four five six\n",
      "minus one thousand point zero zero one\n",
      "minus twelve thousand three hundred forty five point six seven eight nine\n"
     ]
    }
   ],
   "source": [
    "# Test cases for positive whole numbers\n",
    "print(number_to_words(0))  # zero\n",
    "print(number_to_words(1))  # one\n",
    "print(number_to_words(10))  # ten\n",
    "print(number_to_words(100))  # one hundred\n",
    "print(number_to_words(1000))  # one thousand\n",
    "print(number_to_words(1234))  # one thousand two hundred thirty four\n",
    "print(number_to_words(1000000))  # one million\n",
    "print(number_to_words(1000000000))  # one billion\n",
    "print(number_to_words(1234567890))  # one billion two hundred thirty four million five hundred sixty seven thousand eight hundred ninety\n",
    "\n",
    "# Test cases for negative whole numbers\n",
    "print(number_to_words(-1))  # minus one\n",
    "print(number_to_words(-10))  # minus ten\n",
    "print(number_to_words(-100))  # minus one hundred\n",
    "print(number_to_words(-1000))  # minus one thousand\n",
    "print(number_to_words(-1234))  # minus one thousand two hundred thirty four\n",
    "print(number_to_words(-1000000))  # minus one million\n",
    "print(number_to_words(-1000000000))  # minus one billion\n",
    "print(number_to_words(-1234567890))  # minus one billion two hundred thirty four million five hundred sixty seven thousand eight hundred ninety\n",
    "\n",
    "# Test cases for positive decimal numbers\n",
    "print(number_to_words(3.14))  # three point one four\n",
    "print(number_to_words(123.456))  # one hundred twenty three point four five six\n",
    "print(number_to_words(1000.001))  # one thousand point zero zero one\n",
    "print(number_to_words(12345.6789))  # twelve thousand three hundred forty five point six seven eight nine\n",
    "\n",
    "# Test cases for negative decimal numbers\n",
    "print(number_to_words(-3.14))  # minus three point one four\n",
    "print(number_to_words(-123.456))  # minus one hundred twenty three point four five six\n",
    "print(number_to_words(-1000.001))  # minus one thousand point zero zero one\n",
    "print(number_to_words(-12345.6789))  # minus twelve thousand three hundred forty five point six seven eight nine"
   ]
  },
  {
   "cell_type": "code",
   "execution_count": 108,
   "metadata": {},
   "outputs": [
    {
     "name": "stdout",
     "output_type": "stream",
     "text": [
      "one hundred twenty three million four hundred fifty six thousand seven hundred eighty nine\n",
      "three point one four one five nine\n",
      "minus nine thousand eight hundred seventy six point five four three two one\n",
      "one hundred twenty three octodecillion four hundred fifty six septendecillion seven hundred eighty nine sexdecillion twelve quindecillion three hundred forty five quattuordecillion six hundred seventy eight tredecillion nine hundred one duodecillion two hundred thirty four undecillion five hundred sixty seven decillion eight hundred ninety nonillion one hundred twenty three octillion four hundred fifty six septillion seven hundred eighty nine sextillion twelve quintillion three hundred forty five quadrillion six hundred seventy eight trillion nine hundred one billion two hundred thirty four million five hundred sixty seven thousand eight hundred ninety\n",
      "zero\n",
      "ten\n",
      "one hundred\n",
      "one thousand\n",
      "one million\n",
      "minus five\n",
      "zero point five\n",
      "123\n"
     ]
    }
   ],
   "source": [
    "print(number_to_words(123456789))\n",
    "print(number_to_words(3.14159))\n",
    "print(number_to_words(-9876.54321))\n",
    "print(number_to_words(123456789012345678901234567890123456789012345678901234567890))\n",
    "print(number_to_words(0))\n",
    "print(number_to_words(10))\n",
    "print(number_to_words(100))\n",
    "print(number_to_words(1000))\n",
    "print(number_to_words(1000000))\n",
    "print(number_to_words(-5))\n",
    "print(number_to_words(0.5))\n",
    "print(number_to_words(\"123\"))"
   ]
  },
  {
   "cell_type": "code",
   "execution_count": 105,
   "metadata": {},
   "outputs": [
    {
     "name": "stdout",
     "output_type": "stream",
     "text": [
      "zero\n"
     ]
    }
   ],
   "source": [
    "print(number_to_words(0.000))"
   ]
  },
  {
   "cell_type": "code",
   "execution_count": null,
   "metadata": {},
   "outputs": [],
   "source": []
  }
 ],
 "metadata": {
  "kernelspec": {
   "display_name": "Python 3",
   "language": "python",
   "name": "python3"
  },
  "language_info": {
   "codemirror_mode": {
    "name": "ipython",
    "version": 3
   },
   "file_extension": ".py",
   "mimetype": "text/x-python",
   "name": "python",
   "nbconvert_exporter": "python",
   "pygments_lexer": "ipython3",
   "version": "3.7.15"
  },
  "orig_nbformat": 4
 },
 "nbformat": 4,
 "nbformat_minor": 2
}
